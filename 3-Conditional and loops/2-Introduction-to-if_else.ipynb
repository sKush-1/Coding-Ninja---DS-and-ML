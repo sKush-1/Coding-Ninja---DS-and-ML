{
 "cells": [
  {
   "cell_type": "code",
   "execution_count": 12,
   "id": "7f1af143",
   "metadata": {},
   "outputs": [
    {
     "name": "stdout",
     "output_type": "stream",
     "text": [
      "I am in else\n"
     ]
    }
   ],
   "source": [
    "a = not(True)\n",
    "if a:\n",
    "    print(\"I am inside if\")\n",
    "else:\n",
    "    print(\"I am in else\")\n",
    "    "
   ]
  },
  {
   "cell_type": "code",
   "execution_count": null,
   "id": "fe8c8c22",
   "metadata": {},
   "outputs": [],
   "source": [
    "# Check number to be odd or even"
   ]
  },
  {
   "cell_type": "code",
   "execution_count": 13,
   "id": "a9a8119e",
   "metadata": {},
   "outputs": [
    {
     "name": "stdout",
     "output_type": "stream",
     "text": [
      "45\n",
      "Odd\n"
     ]
    }
   ],
   "source": [
    "n = int(input())\n",
    "r = n % 2\n",
    "is_even = (r==0)\n",
    "\n",
    "if is_even:\n",
    "    print(\"Even\")\n",
    "else:\n",
    "    print(\"Odd\")"
   ]
  },
  {
   "cell_type": "code",
   "execution_count": null,
   "id": "c2bff17a",
   "metadata": {},
   "outputs": [],
   "source": []
  }
 ],
 "metadata": {
  "kernelspec": {
   "display_name": "Python 3 (ipykernel)",
   "language": "python",
   "name": "python3"
  },
  "language_info": {
   "codemirror_mode": {
    "name": "ipython",
    "version": 3
   },
   "file_extension": ".py",
   "mimetype": "text/x-python",
   "name": "python",
   "nbconvert_exporter": "python",
   "pygments_lexer": "ipython3",
   "version": "3.9.12"
  }
 },
 "nbformat": 4,
 "nbformat_minor": 5
}
