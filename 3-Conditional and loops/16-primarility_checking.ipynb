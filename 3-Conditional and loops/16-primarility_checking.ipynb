{
 "cells": [
  {
   "cell_type": "markdown",
   "id": "7c21037c",
   "metadata": {},
   "source": [
    "#  Primarlity checking"
   ]
  },
  {
   "cell_type": "code",
   "execution_count": 8,
   "id": "7a21bb7b",
   "metadata": {},
   "outputs": [
    {
     "name": "stdout",
     "output_type": "stream",
     "text": [
      "23\n",
      "prime\n"
     ]
    }
   ],
   "source": [
    "n = int(input())\n",
    "d = 2\n",
    "while d < n:\n",
    "    if n % d == 0:\n",
    "        print(\"Non-prime\")\n",
    "        break;\n",
    "    d = d +1\n",
    "\n",
    "if d==n:\n",
    "    print(\"prime\")"
   ]
  }
 ],
 "metadata": {
  "kernelspec": {
   "display_name": "Python 3 (ipykernel)",
   "language": "python",
   "name": "python3"
  },
  "language_info": {
   "codemirror_mode": {
    "name": "ipython",
    "version": 3
   },
   "file_extension": ".py",
   "mimetype": "text/x-python",
   "name": "python",
   "nbconvert_exporter": "python",
   "pygments_lexer": "ipython3",
   "version": "3.9.12"
  }
 },
 "nbformat": 4,
 "nbformat_minor": 5
}
