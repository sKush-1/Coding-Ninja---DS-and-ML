{
 "cells": [
  {
   "cell_type": "code",
   "execution_count": 1,
   "id": "c7802a1e",
   "metadata": {},
   "outputs": [
    {
     "name": "stdout",
     "output_type": "stream",
     "text": [
      "Enter range\n",
      "2\n",
      "20\n",
      "2\n",
      "3\n",
      "5\n",
      "7\n",
      "11\n",
      "13\n",
      "17\n",
      "19\n"
     ]
    }
   ],
   "source": [
    "print(\"Enter range\")\n",
    "k = int(input())\n",
    "n = int(input())\n",
    "while k<=n:\n",
    "    d = 2\n",
    "    flag = False\n",
    "    while d<k:\n",
    "        if(k % d == 0):\n",
    "            flag = True;\n",
    "        d+=1\n",
    "    if flag==False:\n",
    "        print(k)\n",
    "    k+=1\n",
    "        \n",
    "        "
   ]
  },
  {
   "cell_type": "code",
   "execution_count": null,
   "id": "2ed75698",
   "metadata": {},
   "outputs": [],
   "source": []
  }
 ],
 "metadata": {
  "kernelspec": {
   "display_name": "Python 3 (ipykernel)",
   "language": "python",
   "name": "python3"
  },
  "language_info": {
   "codemirror_mode": {
    "name": "ipython",
    "version": 3
   },
   "file_extension": ".py",
   "mimetype": "text/x-python",
   "name": "python",
   "nbconvert_exporter": "python",
   "pygments_lexer": "ipython3",
   "version": "3.9.12"
  }
 },
 "nbformat": 4,
 "nbformat_minor": 5
}
