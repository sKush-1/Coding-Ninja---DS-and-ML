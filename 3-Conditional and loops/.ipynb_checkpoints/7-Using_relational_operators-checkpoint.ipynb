{
 "cells": [
  {
   "cell_type": "code",
   "execution_count": 1,
   "id": "7456cb03",
   "metadata": {},
   "outputs": [
    {
     "name": "stdout",
     "output_type": "stream",
     "text": [
      "12\n",
      "36\n",
      "Both > 10\n"
     ]
    }
   ],
   "source": [
    "a = int(input())\n",
    "b = int(input())\n",
    "\n",
    "c1 = a > 10\n",
    "c2 = b > 10\n",
    "\n",
    "r = c1 and c2\n",
    "\n",
    "if r:\n",
    "    print(\"Both > 10\")\n",
    "else:\n",
    "    print(\"No they aren't\")"
   ]
  },
  {
   "cell_type": "code",
   "execution_count": 2,
   "id": "4d762245",
   "metadata": {},
   "outputs": [
    {
     "name": "stdout",
     "output_type": "stream",
     "text": [
      "45\n",
      "9\n",
      "No they aren't\n"
     ]
    }
   ],
   "source": [
    "a = int(input())\n",
    "b = int(input())\n",
    "\n",
    "if a>10 and b>10:\n",
    "    print(\"Both > 10\")\n",
    "else:\n",
    "    print(\"No they aren't\")"
   ]
  },
  {
   "cell_type": "code",
   "execution_count": null,
   "id": "13e01850",
   "metadata": {},
   "outputs": [],
   "source": []
  }
 ],
 "metadata": {
  "kernelspec": {
   "display_name": "Python 3 (ipykernel)",
   "language": "python",
   "name": "python3"
  },
  "language_info": {
   "codemirror_mode": {
    "name": "ipython",
    "version": 3
   },
   "file_extension": ".py",
   "mimetype": "text/x-python",
   "name": "python",
   "nbconvert_exporter": "python",
   "pygments_lexer": "ipython3",
   "version": "3.9.12"
  }
 },
 "nbformat": 4,
 "nbformat_minor": 5
}
