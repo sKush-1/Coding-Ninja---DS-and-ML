{
 "cells": [
  {
   "cell_type": "code",
   "execution_count": 2,
   "id": "dc6a688e",
   "metadata": {},
   "outputs": [],
   "source": [
    "a=True\n",
    "b=False"
   ]
  },
  {
   "cell_type": "code",
   "execution_count": 3,
   "id": "3d72112e",
   "metadata": {},
   "outputs": [
    {
     "name": "stdout",
     "output_type": "stream",
     "text": [
      "True\n"
     ]
    }
   ],
   "source": [
    "print(a)"
   ]
  },
  {
   "cell_type": "markdown",
   "id": "01253468",
   "metadata": {},
   "source": [
    "# Relational Operators"
   ]
  },
  {
   "cell_type": "code",
   "execution_count": 4,
   "id": "97832fbd",
   "metadata": {},
   "outputs": [
    {
     "name": "stdout",
     "output_type": "stream",
     "text": [
      "False\n"
     ]
    }
   ],
   "source": [
    "a=10\n",
    "b=20"
   ]
  },
  {
   "cell_type": "code",
   "execution_count": 7,
   "id": "e10e74b4",
   "metadata": {},
   "outputs": [
    {
     "name": "stdout",
     "output_type": "stream",
     "text": [
      "False\n",
      "True\n",
      "True\n",
      "False\n",
      "False\n",
      "True\n"
     ]
    }
   ],
   "source": [
    "print(a>b)\n",
    "print(a<b)\n",
    "print(a<=b)\n",
    "print(a>=b)\n",
    "print(a==b)\n",
    "print(a!=b)"
   ]
  },
  {
   "cell_type": "markdown",
   "id": "f1bc8c69",
   "metadata": {},
   "source": [
    "# Logical Operators"
   ]
  },
  {
   "cell_type": "code",
   "execution_count": 8,
   "id": "0bc5cab1",
   "metadata": {},
   "outputs": [
    {
     "name": "stdout",
     "output_type": "stream",
     "text": [
      "False\n"
     ]
    }
   ],
   "source": [
    "print(a>10 and b>10)"
   ]
  },
  {
   "cell_type": "code",
   "execution_count": 9,
   "id": "27f6b782",
   "metadata": {},
   "outputs": [
    {
     "name": "stdout",
     "output_type": "stream",
     "text": [
      "True\n"
     ]
    }
   ],
   "source": [
    "print(a>10 or b>10)"
   ]
  },
  {
   "cell_type": "code",
   "execution_count": 10,
   "id": "82d2b04b",
   "metadata": {},
   "outputs": [
    {
     "name": "stdout",
     "output_type": "stream",
     "text": [
      "True\n"
     ]
    }
   ],
   "source": [
    "print(not(a>10))"
   ]
  },
  {
   "cell_type": "code",
   "execution_count": null,
   "id": "53495417",
   "metadata": {},
   "outputs": [],
   "source": []
  }
 ],
 "metadata": {
  "kernelspec": {
   "display_name": "Python 3 (ipykernel)",
   "language": "python",
   "name": "python3"
  },
  "language_info": {
   "codemirror_mode": {
    "name": "ipython",
    "version": 3
   },
   "file_extension": ".py",
   "mimetype": "text/x-python",
   "name": "python",
   "nbconvert_exporter": "python",
   "pygments_lexer": "ipython3",
   "version": "3.9.12"
  }
 },
 "nbformat": 4,
 "nbformat_minor": 5
}
