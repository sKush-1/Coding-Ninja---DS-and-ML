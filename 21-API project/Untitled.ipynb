{
 "cells": [
  {
   "cell_type": "code",
   "execution_count": 7,
   "id": "9f32ebfc",
   "metadata": {},
   "outputs": [],
   "source": [
    "import requests"
   ]
  },
  {
   "cell_type": "code",
   "execution_count": 11,
   "id": "479e5fc8",
   "metadata": {},
   "outputs": [],
   "source": [
    "basic_api = 'https://developers.zomato.com/api/v2.1'"
   ]
  },
  {
   "cell_type": "code",
   "execution_count": null,
   "id": "52cd7cd2",
   "metadata": {},
   "outputs": [],
   "source": [
    "params = {'city_id': 1}\n"
   ]
  }
 ],
 "metadata": {
  "kernelspec": {
   "display_name": "Python 3 (ipykernel)",
   "language": "python",
   "name": "python3"
  },
  "language_info": {
   "codemirror_mode": {
    "name": "ipython",
    "version": 3
   },
   "file_extension": ".py",
   "mimetype": "text/x-python",
   "name": "python",
   "nbconvert_exporter": "python",
   "pygments_lexer": "ipython3",
   "version": "3.10.6"
  }
 },
 "nbformat": 4,
 "nbformat_minor": 5
}
