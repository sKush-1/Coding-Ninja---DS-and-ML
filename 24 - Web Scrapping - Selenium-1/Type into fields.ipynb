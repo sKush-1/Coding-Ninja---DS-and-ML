{
 "cells": [
  {
   "cell_type": "code",
   "execution_count": 5,
   "id": "29e99f4f",
   "metadata": {},
   "outputs": [],
   "source": [
    "from selenium import webdriver"
   ]
  },
  {
   "cell_type": "code",
   "execution_count": 6,
   "id": "7dd7b4c2",
   "metadata": {},
   "outputs": [
    {
     "name": "stderr",
     "output_type": "stream",
     "text": [
      "/tmp/ipykernel_5987/2912314309.py:1: DeprecationWarning: executable_path has been deprecated, please pass in a Service object\n",
      "  driver = webdriver.Chrome(executable_path = 'chromedriver_linux64')\n"
     ]
    },
    {
     "data": {
      "text/plain": [
       "<selenium.webdriver.chrome.webdriver.WebDriver (session=\"e392a646bc89de7968003ea768f06a8b\")>"
      ]
     },
     "execution_count": 6,
     "metadata": {},
     "output_type": "execute_result"
    }
   ],
   "source": [
    "driver = webdriver.Chrome(executable_path = 'chromedriver_linux64')\n",
    "driver"
   ]
  },
  {
   "cell_type": "code",
   "execution_count": null,
   "id": "d2b0c19c",
   "metadata": {},
   "outputs": [],
   "source": [
    "driver.get('https://www.google.com')"
   ]
  },
  {
   "cell_type": "code",
   "execution_count": 11,
   "id": "17521346",
   "metadata": {},
   "outputs": [],
   "source": [
    "from selenium.webdriver.common.by import By"
   ]
  },
  {
   "cell_type": "code",
   "execution_count": null,
   "id": "67b360cf",
   "metadata": {},
   "outputs": [],
   "source": [
    "text_box = driver.find_element(By.NAME,\"q\")\n",
    "text_box"
   ]
  },
  {
   "cell_type": "code",
   "execution_count": null,
   "id": "527add8d",
   "metadata": {},
   "outputs": [],
   "source": [
    "text_box.send_keys('selenium')"
   ]
  },
  {
   "cell_type": "code",
   "execution_count": null,
   "id": "2ae1a11b",
   "metadata": {},
   "outputs": [],
   "source": [
    "text_box.submit()"
   ]
  },
  {
   "cell_type": "code",
   "execution_count": null,
   "id": "65c8def1",
   "metadata": {},
   "outputs": [],
   "source": [
    "driver.get('https://www.google.com/maps')"
   ]
  },
  {
   "cell_type": "code",
   "execution_count": 7,
   "id": "4e068359",
   "metadata": {},
   "outputs": [],
   "source": [
    "driver.get('https://www.xhamster19.desi')"
   ]
  },
  {
   "cell_type": "code",
   "execution_count": null,
   "id": "91eb0505",
   "metadata": {},
   "outputs": [],
   "source": [
    "text_box = driver.find_element(By.NAME,\"q\")\n",
    "text_box"
   ]
  },
  {
   "cell_type": "code",
   "execution_count": 12,
   "id": "c4acd98e",
   "metadata": {},
   "outputs": [
    {
     "data": {
      "text/plain": [
       "<selenium.webdriver.remote.webelement.WebElement (session=\"e392a646bc89de7968003ea768f06a8b\", element=\"a85b52e4-a1eb-4523-a9e5-7941a6c622c4\")>"
      ]
     },
     "execution_count": 12,
     "metadata": {},
     "output_type": "execute_result"
    }
   ],
   "source": [
    "text_box = driver.find_element(By.CLASS_NAME,\"search-text\")\n",
    "text_box"
   ]
  },
  {
   "cell_type": "code",
   "execution_count": 13,
   "id": "99d31077",
   "metadata": {},
   "outputs": [],
   "source": [
    "tb = text_box.send_keys('indian')\n"
   ]
  },
  {
   "cell_type": "code",
   "execution_count": 37,
   "id": "9475a604",
   "metadata": {},
   "outputs": [],
   "source": [
    "button = driver.find_element(By.CLASS_NAME, \"xplayer-start-button\")\n",
    "button.click()"
   ]
  },
  {
   "cell_type": "code",
   "execution_count": 33,
   "id": "bf44a0a5",
   "metadata": {},
   "outputs": [],
   "source": [
    "from bs4 import BeautifulSoup\n",
    "import requests"
   ]
  },
  {
   "cell_type": "code",
   "execution_count": 35,
   "id": "cf3021ef",
   "metadata": {},
   "outputs": [
    {
     "data": {
      "text/plain": [
       "<Response [200]>"
      ]
     },
     "execution_count": 35,
     "metadata": {},
     "output_type": "execute_result"
    }
   ],
   "source": [
    "res = requests.get('')\n",
    "res"
   ]
  },
  {
   "cell_type": "code",
   "execution_count": 17,
   "id": "3ad2c324",
   "metadata": {},
   "outputs": [
    {
     "data": {
      "text/plain": [
       "selenium.webdriver.remote.webelement.WebElement"
      ]
     },
     "execution_count": 17,
     "metadata": {},
     "output_type": "execute_result"
    }
   ],
   "source": [
    "type(button)"
   ]
  },
  {
   "cell_type": "code",
   "execution_count": 36,
   "id": "80d93d0e",
   "metadata": {},
   "outputs": [],
   "source": [
    "driver.get('https://xhamster19.desi/videos/starkavita-ko-bra-bechne-wale-ne-pail-diya-hindi-audio-xhC3c5G')"
   ]
  },
  {
   "cell_type": "code",
   "execution_count": null,
   "id": "45de33b1",
   "metadata": {},
   "outputs": [],
   "source": []
  }
 ],
 "metadata": {
  "kernelspec": {
   "display_name": "Python 3 (ipykernel)",
   "language": "python",
   "name": "python3"
  },
  "language_info": {
   "codemirror_mode": {
    "name": "ipython",
    "version": 3
   },
   "file_extension": ".py",
   "mimetype": "text/x-python",
   "name": "python",
   "nbconvert_exporter": "python",
   "pygments_lexer": "ipython3",
   "version": "3.10.6"
  }
 },
 "nbformat": 4,
 "nbformat_minor": 5
}
