{
 "cells": [
  {
   "cell_type": "code",
   "execution_count": 7,
   "id": "f026276b",
   "metadata": {},
   "outputs": [],
   "source": [
    "import numpy as np"
   ]
  },
  {
   "cell_type": "code",
   "execution_count": 8,
   "id": "df3379e4",
   "metadata": {},
   "outputs": [
    {
     "data": {
      "text/plain": [
       "(100, 2)"
      ]
     },
     "execution_count": 8,
     "metadata": {},
     "output_type": "execute_result"
    }
   ],
   "source": [
    "data = np.loadtxt('data.csv', delimiter=',')\n",
    "data.shape"
   ]
  },
  {
   "cell_type": "code",
   "execution_count": 26,
   "id": "fef22d0e",
   "metadata": {},
   "outputs": [],
   "source": [
    "def step_gradient(points, learning_rate, m, c):\n",
    "    m_slope = 0;\n",
    "    c_slope = 0;\n",
    "    M = len(points)\n",
    "    for i in range(M):\n",
    "        x = points[i,0]\n",
    "        y = points[i,1]\n",
    "        m_slope += (-2/M)* (y - m * x - c)*x\n",
    "        c_slope += (-2/M)* (y - m * x - c)\n",
    "        new_m = m - learning_rate * m_slope;\n",
    "        new_c = learning_rate * c_slope\n",
    "        return new_m,new_c\n",
    "    "
   ]
  },
  {
   "cell_type": "code",
   "execution_count": 30,
   "id": "ce889b08",
   "metadata": {},
   "outputs": [],
   "source": [
    "def gd(points, learning_rate, num_iterations):\n",
    "    m = 0;\n",
    "    c = 0;\n",
    "    for i in range(num_iterations):\n",
    "        m,c = step_gradient(points,learning_rate,m,c)\n",
    "        print(i, \"Cost: \", cost(points,m,c))\n",
    "    return m,c"
   ]
  },
  {
   "cell_type": "code",
   "execution_count": 29,
   "id": "de895eea",
   "metadata": {},
   "outputs": [],
   "source": [
    "def cost(points, m, c):\n",
    "    total_cost = 0\n",
    "    M = len(points)\n",
    "    for i in range(M):\n",
    "        x = points[i,0]\n",
    "        y = points[i,1]\n",
    "        total_cost += (1/M)*((y - m*x - c)**2)\n",
    "        \n",
    "    return total_cost"
   ]
  },
  {
   "cell_type": "code",
   "execution_count": 39,
   "id": "dc5fa939",
   "metadata": {},
   "outputs": [],
   "source": [
    "def run():\n",
    "    data = np.loadtxt('data.csv', delimiter= ',') \n",
    "    learning_rate = 0.001\n",
    "    num_iterations = 100\n",
    "    m, c = gd(data, learning_rate, num_iterations)\n",
    "    print(m,c)\n",
    "    "
   ]
  },
  {
   "cell_type": "code",
   "execution_count": 40,
   "id": "bec77f3b",
   "metadata": {
    "scrolled": true
   },
   "outputs": [
    {
     "name": "stdout",
     "output_type": "stream",
     "text": [
      "0 Cost:  5414.339139814747\n",
      "1 Cost:  5268.710540184665\n",
      "2 Cost:  5128.123073441636\n",
      "3 Cost:  4992.388104755163\n",
      "4 Cost:  4861.32441664378\n",
      "5 Cost:  4734.75791061373\n",
      "6 Cost:  4612.521319183192\n",
      "7 Cost:  4494.453929742436\n",
      "8 Cost:  4380.40131975956\n",
      "9 Cost:  4270.215102861507\n",
      "10 Cost:  4163.752685339976\n",
      "11 Cost:  4060.877032650219\n",
      "12 Cost:  3961.456445489055\n",
      "13 Cost:  3865.364345055323\n",
      "14 Cost:  3772.4790671127676\n",
      "15 Cost:  3682.68366449096\n",
      "16 Cost:  3595.8657176751353\n",
      "17 Cost:  3511.917153150287\n",
      "18 Cost:  3430.734069178833\n",
      "19 Cost:  3352.2165687043957\n",
      "20 Cost:  3276.2685990871832\n",
      "21 Cost:  3202.7977983885257\n",
      "22 Cost:  3131.7153479339945\n",
      "23 Cost:  3062.935830895722\n",
      "24 Cost:  2996.377096645301\n",
      "25 Cost:  2931.960130639026\n",
      "26 Cost:  2869.6089296070845\n",
      "27 Cost:  2809.2503818278237\n",
      "28 Cost:  2750.8141522773053\n",
      "29 Cost:  2694.23257245305\n",
      "30 Cost:  2639.4405346792673\n",
      "31 Cost:  2586.375390708807\n",
      "32 Cost:  2534.976854444807\n",
      "33 Cost:  2485.186908612282\n",
      "34 Cost:  2436.9497152170234\n",
      "35 Cost:  2390.211529635855\n",
      "36 Cost:  2344.92061818881\n",
      "37 Cost:  2301.027179049952\n",
      "38 Cost:  2258.483266359565\n",
      "39 Cost:  2217.242717406017\n",
      "40 Cost:  2177.2610827512335\n",
      "41 Cost:  2138.4955591787375\n",
      "42 Cost:  2100.9049253484063\n",
      "43 Cost:  2064.449480046784\n",
      "44 Cost:  2029.0909829264438\n",
      "45 Cost:  1994.7925976322908\n",
      "46 Cost:  1961.5188372169125\n",
      "47 Cost:  1929.2355117511604\n",
      "48 Cost:  1897.9096780400153\n",
      "49 Cost:  1867.50959135751\n",
      "50 Cost:  1838.004659118047\n",
      "51 Cost:  1809.3653964048845\n",
      "52 Cost:  1781.5633832798205\n",
      "53 Cost:  1754.571223801255\n",
      "54 Cost:  1728.3625066808313\n",
      "55 Cost:  1702.911767511696\n",
      "56 Cost:  1678.1944525042659\n",
      "57 Cost:  1654.186883667941\n",
      "58 Cost:  1630.8662253798286\n",
      "59 Cost:  1608.210452283909\n",
      "60 Cost:  1586.198318466469\n",
      "61 Cost:  1564.809327855812\n",
      "62 Cost:  1544.0237057964282\n",
      "63 Cost:  1523.822371749853\n",
      "64 Cost:  1504.1869130764137\n",
      "65 Cost:  1485.0995598539516\n",
      "66 Cost:  1466.5431606914053\n",
      "67 Cost:  1448.501159496898\n",
      "68 Cost:  1430.9575731616108\n",
      "69 Cost:  1413.8969701223216\n",
      "70 Cost:  1397.30444976704\n",
      "71 Cost:  1381.165622649589\n",
      "72 Cost:  1365.4665914804245\n",
      "73 Cost:  1350.1939328623223\n",
      "74 Cost:  1335.3346797408224\n",
      "75 Cost:  1320.8763045406024\n",
      "76 Cost:  1306.8067029600954\n",
      "77 Cost:  1293.1141783978283\n",
      "78 Cost:  1279.7874269850354\n",
      "79 Cost:  1266.815523200138\n",
      "80 Cost:  1254.1879060417054\n",
      "81 Cost:  1241.8943657374487\n",
      "82 Cost:  1229.9250309677088\n",
      "83 Cost:  1218.2703565828278\n",
      "84 Cost:  1206.921111794582\n",
      "85 Cost:  1195.8683688227045\n",
      "86 Cost:  1185.1034919782649\n",
      "87 Cost:  1174.6181271664807\n",
      "88 Cost:  1164.4041917921522\n",
      "89 Cost:  1154.4538650517034\n",
      "90 Cost:  1144.7595785963756\n",
      "91 Cost:  1135.3140075518177\n",
      "92 Cost:  1126.1100618798682\n",
      "93 Cost:  1117.1408780689426\n",
      "94 Cost:  1108.3998111399605\n",
      "95 Cost:  1099.880426955302\n",
      "96 Cost:  1091.5764948187862\n",
      "97 Cost:  1083.48198035513\n",
      "98 Cost:  1075.5910386578676\n",
      "99 Cost:  1067.8980076950872\n",
      "0.8602349101006611 -7.656633741822453e-05\n"
     ]
    }
   ],
   "source": [
    "run()"
   ]
  },
  {
   "cell_type": "code",
   "execution_count": null,
   "id": "24fe6131",
   "metadata": {},
   "outputs": [],
   "source": []
  }
 ],
 "metadata": {
  "kernelspec": {
   "display_name": "Python 3 (ipykernel)",
   "language": "python",
   "name": "python3"
  },
  "language_info": {
   "codemirror_mode": {
    "name": "ipython",
    "version": 3
   },
   "file_extension": ".py",
   "mimetype": "text/x-python",
   "name": "python",
   "nbconvert_exporter": "python",
   "pygments_lexer": "ipython3",
   "version": "3.10.6"
  }
 },
 "nbformat": 4,
 "nbformat_minor": 5
}
