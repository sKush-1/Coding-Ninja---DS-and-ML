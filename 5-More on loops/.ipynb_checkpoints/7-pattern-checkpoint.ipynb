{
 "cells": [
  {
   "cell_type": "markdown",
   "id": "4be55971",
   "metadata": {},
   "source": [
    "# Print Pattern\n",
    "      1 \n",
    "    2 3 2 \n",
    "  3 4 5 4 3 \n",
    "4 5 6 7 6 5 4 "
   ]
  },
  {
   "cell_type": "code",
   "execution_count": 5,
   "id": "553c93d0",
   "metadata": {},
   "outputs": [
    {
     "name": "stdout",
     "output_type": "stream",
     "text": [
      "6\n",
      "          1 \n",
      "        2 3 2 \n",
      "      3 4 5 4 3 \n",
      "    4 5 6 7 6 5 4 \n",
      "  5 6 7 8 9 8 7 6 5 \n",
      "6 7 8 9 10 11 10 9 8 7 6 \n"
     ]
    }
   ],
   "source": [
    "n = int(input())\n",
    "\n",
    "for i in range (1,n+1,1):\n",
    "    for s in range(n-i):\n",
    "        print(\" \",end=\" \")\n",
    "    for j in range(i, 2 * i, 1):\n",
    "        print(j,end=\" \")\n",
    "    for k in range(2*i - 2, i-1, -1):\n",
    "        print(k,end=\" \")\n",
    "    print()\n",
    "        "
   ]
  },
  {
   "cell_type": "code",
   "execution_count": null,
   "id": "b3783b20",
   "metadata": {},
   "outputs": [],
   "source": []
  },
  {
   "cell_type": "code",
   "execution_count": null,
   "id": "e4433e2a",
   "metadata": {},
   "outputs": [],
   "source": []
  }
 ],
 "metadata": {
  "kernelspec": {
   "display_name": "Python 3 (ipykernel)",
   "language": "python",
   "name": "python3"
  },
  "language_info": {
   "codemirror_mode": {
    "name": "ipython",
    "version": 3
   },
   "file_extension": ".py",
   "mimetype": "text/x-python",
   "name": "python",
   "nbconvert_exporter": "python",
   "pygments_lexer": "ipython3",
   "version": "3.9.12"
  }
 },
 "nbformat": 4,
 "nbformat_minor": 5
}
