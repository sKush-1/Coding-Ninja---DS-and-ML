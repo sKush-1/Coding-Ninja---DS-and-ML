{
 "cells": [
  {
   "cell_type": "code",
   "execution_count": 1,
   "id": "3d305fff",
   "metadata": {},
   "outputs": [],
   "source": [
    "import matplotlib.pyplot as plt"
   ]
  },
  {
   "cell_type": "code",
   "execution_count": 2,
   "id": "c1ea005d",
   "metadata": {},
   "outputs": [],
   "source": [
    "a = [1,2,3,4,1,3,4,2,1,1]"
   ]
  },
  {
   "cell_type": "code",
   "execution_count": 3,
   "id": "5b8acdba",
   "metadata": {},
   "outputs": [
    {
     "data": {
      "text/plain": [
       "(array([4., 0., 0., 2., 0., 0., 2., 0., 0., 2.]),\n",
       " array([1. , 1.3, 1.6, 1.9, 2.2, 2.5, 2.8, 3.1, 3.4, 3.7, 4. ]),\n",
       " <BarContainer object of 10 artists>)"
      ]
     },
     "execution_count": 3,
     "metadata": {},
     "output_type": "execute_result"
    },
    {
     "data": {
      "image/png": "[encoded data removed]",
      "text/plain": [
       "<Figure size 432x288 with 1 Axes>"
      ]
     },
     "metadata": {
      "needs_background": "light"
     },
     "output_type": "display_data"
    }
   ],
   "source": [
    "plt.hist(a)"
   ]
  },
  {
   "cell_type": "code",
   "execution_count": 8,
   "id": "e4d4ae72",
   "metadata": {},
   "outputs": [],
   "source": [
    "b = [1,2,1,3,5,4,5,5,4,3,3,10,7,6,7,8,8,20,22,11,14]"
   ]
  },
  {
   "cell_type": "code",
   "execution_count": 9,
   "id": "a32b9ecb",
   "metadata": {},
   "outputs": [],
   "source": [
    "import numpy as np"
   ]
  },
  {
   "cell_type": "code",
   "execution_count": 10,
   "id": "543f5c4e",
   "metadata": {},
   "outputs": [
    {
     "data": {
      "text/plain": [
       "array([ 0,  1,  2,  3,  4,  5,  6,  7,  8,  9, 10, 11, 12, 13, 14, 15, 16,\n",
       "       17, 18, 19, 20, 21, 22])"
      ]
     },
     "execution_count": 10,
     "metadata": {},
     "output_type": "execute_result"
    }
   ],
   "source": [
    "xt = np.arange(23)"
   ]
  },
  {
   "cell_type": "code",
   "execution_count": 15,
   "id": "1a4879d9",
   "metadata": {},
   "outputs": [
    {
     "data": {
      "text/plain": [
       "([<matplotlib.axis.XTick at 0x1bad58e9490>,\n",
       "  <matplotlib.axis.XTick at 0x1bad58e9460>,\n",
       "  <matplotlib.axis.XTick at 0x1bad58e4100>,\n",
       "  <matplotlib.axis.XTick at 0x1bad690cc10>,\n",
       "  <matplotlib.axis.XTick at 0x1bad69183a0>,\n",
       "  <matplotlib.axis.XTick at 0x1bad6918af0>,\n",
       "  <matplotlib.axis.XTick at 0x1bad691e280>,\n",
       "  <matplotlib.axis.XTick at 0x1bad691e9d0>,\n",
       "  <matplotlib.axis.XTick at 0x1bad691eca0>,\n",
       "  <matplotlib.axis.XTick at 0x1bad6918bb0>,\n",
       "  <matplotlib.axis.XTick at 0x1bad6924040>,\n",
       "  <matplotlib.axis.XTick at 0x1bad6924820>,\n",
       "  <matplotlib.axis.XTick at 0x1bad692b040>,\n",
       "  <matplotlib.axis.XTick at 0x1bad692b700>,\n",
       "  <matplotlib.axis.XTick at 0x1bad692be50>,\n",
       "  <matplotlib.axis.XTick at 0x1bad692b9d0>,\n",
       "  <matplotlib.axis.XTick at 0x1bad69248e0>,\n",
       "  <matplotlib.axis.XTick at 0x1bad6933490>,\n",
       "  <matplotlib.axis.XTick at 0x1bad6933af0>,\n",
       "  <matplotlib.axis.XTick at 0x1bad693b280>,\n",
       "  <matplotlib.axis.XTick at 0x1bad693b9d0>,\n",
       "  <matplotlib.axis.XTick at 0x1bad6942160>,\n",
       "  <matplotlib.axis.XTick at 0x1bad693b790>],\n",
       " [Text(0, 0, ''),\n",
       "  Text(0, 0, ''),\n",
       "  Text(0, 0, ''),\n",
       "  Text(0, 0, ''),\n",
       "  Text(0, 0, ''),\n",
       "  Text(0, 0, ''),\n",
       "  Text(0, 0, ''),\n",
       "  Text(0, 0, ''),\n",
       "  Text(0, 0, ''),\n",
       "  Text(0, 0, ''),\n",
       "  Text(0, 0, ''),\n",
       "  Text(0, 0, ''),\n",
       "  Text(0, 0, ''),\n",
       "  Text(0, 0, ''),\n",
       "  Text(0, 0, ''),\n",
       "  Text(0, 0, ''),\n",
       "  Text(0, 0, ''),\n",
       "  Text(0, 0, ''),\n",
       "  Text(0, 0, ''),\n",
       "  Text(0, 0, ''),\n",
       "  Text(0, 0, ''),\n",
       "  Text(0, 0, ''),\n",
       "  Text(0, 0, '')])"
      ]
     },
     "execution_count": 15,
     "metadata": {},
     "output_type": "execute_result"
    },
    {
     "data": {
      "image/png": "[encoded data removed]",
      "text/plain": [
       "<Figure size 432x288 with 1 Axes>"
      ]
     },
     "metadata": {
      "needs_background": "light"
     },
     "output_type": "display_data"
    }
   ],
   "source": [
    "bins = (xt.max() - xt.min())\n",
    "plt.hist(b, edgecolor = 'black', bins=bins)\n",
    "plt.xticks(xt)"
   ]
  },
  {
   "cell_type": "code",
   "execution_count": 16,
   "id": "7cc48faa",
   "metadata": {},
   "outputs": [
    {
     "data": {
      "text/plain": [
       "(array([3., 8., 5., 3., 1.]),\n",
       " array([ 1,  3,  6, 10, 15, 20]),\n",
       " <BarContainer object of 5 artists>)"
      ]
     },
     "execution_count": 16,
     "metadata": {},
     "output_type": "execute_result"
    },
    {
     "data": {
      "image/png": "[encoded data removed]",
      "text/plain": [
       "<Figure size 432x288 with 1 Axes>"
      ]
     },
     "metadata": {
      "needs_background": "light"
     },
     "output_type": "display_data"
    }
   ],
   "source": [
    "plt.hist(b, edgecolor = 'black', bins=[1,3,6,10,15,20])"
   ]
  },
  {
   "cell_type": "code",
   "execution_count": 18,
   "id": "ec49afd1",
   "metadata": {},
   "outputs": [
    {
     "data": {
      "text/plain": [
       "(array([6., 5., 3., 2., 2., 0., 1., 0., 0., 2.]),\n",
       " array([ 1. ,  3.1,  5.2,  7.3,  9.4, 11.5, 13.6, 15.7, 17.8, 19.9, 22. ]),\n",
       " <BarContainer object of 10 artists>)"
      ]
     },
     "execution_count": 18,
     "metadata": {},
     "output_type": "execute_result"
    },
    {
     "data": {
      "image/png": "[encoded data removed]",
      "text/plain": [
       "<Figure size 432x288 with 1 Axes>"
      ]
     },
     "metadata": {
      "needs_background": "light"
     },
     "output_type": "display_data"
    }
   ],
   "source": [
    "plt.axis([0,25,0,10])\n",
    "plt.hist(b)"
   ]
  },
  {
   "cell_type": "code",
   "execution_count": null,
   "id": "636cd267",
   "metadata": {},
   "outputs": [],
   "source": []
  }
 ],
 "metadata": {
  "kernelspec": {
   "display_name": "Python 3 (ipykernel)",
   "language": "python",
   "name": "python3"
  },
  "language_info": {
   "codemirror_mode": {
    "name": "ipython",
    "version": 3
   },
   "file_extension": ".py",
   "mimetype": "text/x-python",
   "name": "python",
   "nbconvert_exporter": "python",
   "pygments_lexer": "ipython3",
   "version": "3.9.12"
  }
 },
 "nbformat": 4,
 "nbformat_minor": 5
}
