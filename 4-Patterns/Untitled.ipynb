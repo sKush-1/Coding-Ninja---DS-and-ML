{
 "cells": [
  {
   "cell_type": "markdown",
   "id": "748c4411",
   "metadata": {},
   "source": [
    "# Pattern for N = 3\n",
    " A\n",
    " BB\n",
    " CCC\n"
   ]
  },
  {
   "cell_type": "code",
   "execution_count": 3,
   "id": "9aa7e097",
   "metadata": {},
   "outputs": [
    {
     "name": "stdout",
     "output_type": "stream",
     "text": [
      "5\n",
      "A\n",
      "BB\n",
      "CCC\n",
      "DDDD\n",
      "EEEEE\n"
     ]
    }
   ],
   "source": [
    "n = int(input())\n",
    "i=1\n",
    "while(i<=n):\n",
    "    a = chr(ord('A')+i-1)\n",
    "    j=1\n",
    "    while(j<=i):\n",
    "        print(a, end='')\n",
    "        j+=1\n",
    "    print()\n",
    "    i+=1\n",
    "    "
   ]
  },
  {
   "cell_type": "code",
   "execution_count": null,
   "id": "628098d3",
   "metadata": {},
   "outputs": [],
   "source": []
  }
 ],
 "metadata": {
  "kernelspec": {
   "display_name": "Python 3 (ipykernel)",
   "language": "python",
   "name": "python3"
  },
  "language_info": {
   "codemirror_mode": {
    "name": "ipython",
    "version": 3
   },
   "file_extension": ".py",
   "mimetype": "text/x-python",
   "name": "python",
   "nbconvert_exporter": "python",
   "pygments_lexer": "ipython3",
   "version": "3.9.12"
  }
 },
 "nbformat": 4,
 "nbformat_minor": 5
}
