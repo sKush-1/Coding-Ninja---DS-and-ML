{
 "cells": [
  {
   "attachments": {},
   "cell_type": "markdown",
   "id": "739bc5f7",
   "metadata": {},
   "source": [
    "# Print Star Pattern\n",
    "Pattern for N = 4\n",
    "\n",
    "   *\n",
    "  ***\n",
    " *****\n",
    "*******"
   ]
  },
  {
   "cell_type": "code",
   "execution_count": 2,
   "id": "7f25c511",
   "metadata": {},
   "outputs": [
    {
     "name": "stdout",
     "output_type": "stream",
     "text": [
      "4\n",
      "   *\n",
      "  ***\n",
      " *****\n",
      "*******\n"
     ]
    }
   ],
   "source": [
    "n = int(input())\n",
    "i=1\n",
    "p=1\n",
    "while(i<=n):\n",
    "    j=1\n",
    "    k=1\n",
    "    while(k<=n-i):\n",
    "        print(' ',end='')\n",
    "        k+=1\n",
    "    while(j<=p):\n",
    "        print('*',end='')\n",
    "        j+=1\n",
    "    print()\n",
    "    p+=2\n",
    "    i+=1\n",
    "    "
   ]
  },
  {
   "cell_type": "code",
   "execution_count": null,
   "id": "90caaef6",
   "metadata": {},
   "outputs": [],
   "source": []
  }
 ],
 "metadata": {
  "kernelspec": {
   "display_name": "Python 3 (ipykernel)",
   "language": "python",
   "name": "python3"
  },
  "language_info": {
   "codemirror_mode": {
    "name": "ipython",
    "version": 3
   },
   "file_extension": ".py",
   "mimetype": "text/x-python",
   "name": "python",
   "nbconvert_exporter": "python",
   "pygments_lexer": "ipython3",
   "version": "3.9.12"
  }
 },
 "nbformat": 4,
 "nbformat_minor": 5
}
