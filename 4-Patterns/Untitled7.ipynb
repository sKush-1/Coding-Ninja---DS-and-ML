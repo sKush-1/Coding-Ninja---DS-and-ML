{
 "cells": [
  {
   "cell_type": "markdown",
   "id": "811f2f1d",
   "metadata": {},
   "source": [
    "# Print Isocelles Pattern\n",
    "for n=4\n",
    "\n",
    "   1\n",
    "  121\n",
    " 12321\n",
    "1234321\n"
   ]
  },
  {
   "cell_type": "code",
   "execution_count": 4,
   "id": "26992b97",
   "metadata": {},
   "outputs": [
    {
     "name": "stdout",
     "output_type": "stream",
     "text": [
      "4\n",
      "   11\n",
      "  1221\n",
      " 123321\n",
      "12344321\n"
     ]
    }
   ],
   "source": [
    "n = int(input())\n",
    "i=1\n",
    "while(i<=n):\n",
    "    j=1\n",
    "    p=1\n",
    "    while(p<=n-i):\n",
    "        print(' ',end='')\n",
    "        p+=1\n",
    "        \n",
    "    while(j<=i):\n",
    "        print(j,end='')\n",
    "        j+=1\n",
    "    j-=1\n",
    "    while(j>=1):\n",
    "        print(j,end='')\n",
    "        j-=1\n",
    "    print()\n",
    "    i+=1"
   ]
  },
  {
   "cell_type": "code",
   "execution_count": null,
   "id": "d706d4aa",
   "metadata": {},
   "outputs": [],
   "source": []
  }
 ],
 "metadata": {
  "kernelspec": {
   "display_name": "Python 3 (ipykernel)",
   "language": "python",
   "name": "python3"
  },
  "language_info": {
   "codemirror_mode": {
    "name": "ipython",
    "version": 3
   },
   "file_extension": ".py",
   "mimetype": "text/x-python",
   "name": "python",
   "nbconvert_exporter": "python",
   "pygments_lexer": "ipython3",
   "version": "3.9.12"
  }
 },
 "nbformat": 4,
 "nbformat_minor": 5
}
