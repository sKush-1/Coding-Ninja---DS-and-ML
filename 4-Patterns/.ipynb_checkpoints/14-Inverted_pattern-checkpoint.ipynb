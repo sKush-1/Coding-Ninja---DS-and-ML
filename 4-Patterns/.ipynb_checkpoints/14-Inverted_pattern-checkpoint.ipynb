{
 "cells": [
  {
   "cell_type": "markdown",
   "id": "913c5f5c",
   "metadata": {},
   "source": [
    "# Pattern \n",
    "for N = 4\n",
    "4444\n",
    "333\n",
    "22\n",
    "1\n"
   ]
  },
  {
   "cell_type": "code",
   "execution_count": 1,
   "id": "b43fe476",
   "metadata": {},
   "outputs": [
    {
     "name": "stdout",
     "output_type": "stream",
     "text": [
      "4\n",
      "4444\n",
      "333\n",
      "22\n",
      "1\n"
     ]
    }
   ],
   "source": [
    "n = int(input())\n",
    "i=1\n",
    "while(i<=n):\n",
    "    j=1\n",
    "    while(j<=n-i+1):\n",
    "        print(n-i+1,end='')\n",
    "        j+=1\n",
    "    print()\n",
    "    i+=1"
   ]
  },
  {
   "cell_type": "code",
   "execution_count": null,
   "id": "d9d6bc26",
   "metadata": {},
   "outputs": [],
   "source": []
  }
 ],
 "metadata": {
  "kernelspec": {
   "display_name": "Python 3 (ipykernel)",
   "language": "python",
   "name": "python3"
  },
  "language_info": {
   "codemirror_mode": {
    "name": "ipython",
    "version": 3
   },
   "file_extension": ".py",
   "mimetype": "text/x-python",
   "name": "python",
   "nbconvert_exporter": "python",
   "pygments_lexer": "ipython3",
   "version": "3.9.12"
  }
 },
 "nbformat": 4,
 "nbformat_minor": 5
}
