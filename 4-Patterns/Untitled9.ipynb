{
 "cells": [
  {
   "cell_type": "markdown",
   "id": "fe8da108",
   "metadata": {},
   "source": [
    "# Triangle of Numbers\n",
    "\n",
    "for n=4\n",
    "\n",
    "   1\n",
    "  232\n",
    " 34543\n",
    "4567654"
   ]
  },
  {
   "cell_type": "code",
   "execution_count": 3,
   "id": "253eac61",
   "metadata": {},
   "outputs": [
    {
     "name": "stdout",
     "output_type": "stream",
     "text": [
      "4\n",
      "   1\n",
      "  23\n",
      " 345\n",
      "4567\n"
     ]
    }
   ],
   "source": [
    "n = int(input())\n",
    "i=1\n",
    "p=1\n",
    "while(i<=n):\n",
    "    j=i\n",
    "    k=1\n",
    "    while(k<=n-i):\n",
    "        print(' ',end='')\n",
    "        k+=1\n",
    "    while(j<=p):\n",
    "        print(j,end='')\n",
    "        j+=1\n",
    "    j-=2\n",
    "    while(j>=i):\n",
    "#         print(j,end='')\n",
    "        j-=1\n",
    "    print()\n",
    "    p+=2\n",
    "    i+=1"
   ]
  },
  {
   "cell_type": "code",
   "execution_count": null,
   "id": "d7d4aa39",
   "metadata": {},
   "outputs": [],
   "source": []
  }
 ],
 "metadata": {
  "kernelspec": {
   "display_name": "Python 3 (ipykernel)",
   "language": "python",
   "name": "python3"
  },
  "language_info": {
   "codemirror_mode": {
    "name": "ipython",
    "version": 3
   },
   "file_extension": ".py",
   "mimetype": "text/x-python",
   "name": "python",
   "nbconvert_exporter": "python",
   "pygments_lexer": "ipython3",
   "version": "3.9.12"
  }
 },
 "nbformat": 4,
 "nbformat_minor": 5
}
