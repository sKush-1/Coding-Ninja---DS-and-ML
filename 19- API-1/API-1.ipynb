{
 "cells": [
  {
   "cell_type": "code",
   "execution_count": null,
   "id": "49f086f5",
   "metadata": {},
   "outputs": [],
   "source": [
    "# 8- HTTP libraries"
   ]
  },
  {
   "cell_type": "code",
   "execution_count": 2,
   "id": "1b639bf7",
   "metadata": {},
   "outputs": [
    {
     "name": "stdout",
     "output_type": "stream",
     "text": [
      "200\n"
     ]
    }
   ],
   "source": [
    "import requests\n",
    "response = requests.get('https://codingninjas.in/api/v3/courses')\n",
    "print(response.status_code)"
   ]
  },
  {
   "cell_type": "code",
   "execution_count": 3,
   "id": "fef6115e",
   "metadata": {},
   "outputs": [
    {
     "name": "stdout",
     "output_type": "stream",
     "text": [
      "ISO-8859-1\n"
     ]
    }
   ],
   "source": [
    "print(response.encoding)"
   ]
  },
  {
   "cell_type": "code",
   "execution_count": 5,
   "id": "5315438f",
   "metadata": {},
   "outputs": [
    {
     "name": "stdout",
     "output_type": "stream",
     "text": [
      "https://www.codingninjas.com:443/\n"
     ]
    }
   ],
   "source": [
    "# print(response.text)\n",
    "print(response.url)\n"
   ]
  },
  {
   "cell_type": "code",
   "execution_count": 6,
   "id": "ea2f8613",
   "metadata": {},
   "outputs": [
    {
     "name": "stdout",
     "output_type": "stream",
     "text": [
      "{'Content-Type': 'text/html', 'Transfer-Encoding': 'chunked', 'Connection': 'keep-alive', 'x-amz-id-2': 'zIYoc2mIUBYGjOmBMNBA2YHupdhIPNIN5GQMJ11aH9MmYgtco0zKVZR+GI8nQiN2rlYYa8VHT0A=', 'x-amz-request-id': '00HMXJM9D4CDYMYR', 'Date': 'Thu, 02 Mar 2023 05:45:56 GMT', 'Last-Modified': 'Tue, 28 Feb 2023 12:51:27 GMT', 'Server': 'AmazonS3', 'Content-Encoding': 'br', 'ETag': 'W/\"6648534f0b049381f267bd90d0af93fe\"', 'Vary': 'Accept-Encoding', 'X-Cache': 'Hit from cloudfront', 'Via': '1.1 10f581cadab69f7d1c3a5004acd282b4.cloudfront.net (CloudFront)', 'X-Amz-Cf-Pop': 'BOM78-P6', 'X-Amz-Cf-Id': 'CbgjUqI0jvNk1F9KhJwNnnjO2fGAc2ItPSe4opdZ7dLf9KhkxyuAew==', 'Age': '16791', 'cache-control': 'must-revalidate, max-age=300'}\n"
     ]
    }
   ],
   "source": [
    "print(response.headers)"
   ]
  },
  {
   "cell_type": "code",
   "execution_count": 7,
   "id": "a33bbd9f",
   "metadata": {},
   "outputs": [
    {
     "name": "stdout",
     "output_type": "stream",
     "text": [
      "<class 'requests.structures.CaseInsensitiveDict'>\n"
     ]
    }
   ],
   "source": [
    "print(type(response.headers))"
   ]
  },
  {
   "cell_type": "code",
   "execution_count": 12,
   "id": "171381eb",
   "metadata": {},
   "outputs": [
    {
     "name": "stdout",
     "output_type": "stream",
     "text": [
      "Thu, 02 Mar 2023 05:45:56 GMT\n"
     ]
    }
   ],
   "source": [
    "header_info = response.headers\n",
    "print(header_info['date'])"
   ]
  },
  {
   "cell_type": "code",
   "execution_count": 13,
   "id": "cca4e144",
   "metadata": {},
   "outputs": [
    {
     "name": "stdout",
     "output_type": "stream",
     "text": [
      "text/html\n"
     ]
    }
   ],
   "source": [
    "print(header_info['content-type'])"
   ]
  },
  {
   "cell_type": "code",
   "execution_count": 1,
   "id": "e1b732d8",
   "metadata": {},
   "outputs": [],
   "source": [
    "# 33 - Post request"
   ]
  },
  {
   "cell_type": "code",
   "execution_count": 2,
   "id": "295e38e8",
   "metadata": {},
   "outputs": [],
   "source": [
    "import requests"
   ]
  },
  {
   "cell_type": "code",
   "execution_count": 4,
   "id": "5cc544c8",
   "metadata": {},
   "outputs": [
    {
     "name": "stdout",
     "output_type": "stream",
     "text": [
      "<Response [200]>\n",
      "{\n",
      "  \"args\": {}, \n",
      "  \"data\": \"\", \n",
      "  \"files\": {}, \n",
      "  \"form\": {}, \n",
      "  \"headers\": {\n",
      "    \"Accept\": \"*/*\", \n",
      "    \"Accept-Encoding\": \"gzip, deflate, br\", \n",
      "    \"Content-Length\": \"0\", \n",
      "    \"Host\": \"httpbin.org\", \n",
      "    \"User-Agent\": \"python-requests/2.28.1\", \n",
      "    \"X-Amzn-Trace-Id\": \"Root=1-6403a31a-4376ce693720d3ef307196bb\"\n",
      "  }, \n",
      "  \"json\": null, \n",
      "  \"origin\": \"152.58.24.164\", \n",
      "  \"url\": \"http://httpbin.org/post\"\n",
      "}\n",
      "\n"
     ]
    }
   ],
   "source": [
    "response = requests.post('http://httpbin.org/post')\n",
    "print(response)\n",
    "print(response.text)"
   ]
  },
  {
   "cell_type": "code",
   "execution_count": 8,
   "id": "5f30ad4e",
   "metadata": {},
   "outputs": [
    {
     "name": "stdout",
     "output_type": "stream",
     "text": [
      "<Response [200]>\n",
      "{\n",
      "  \"args\": {}, \n",
      "  \"data\": \"\", \n",
      "  \"files\": {}, \n",
      "  \"form\": {\n",
      "    \"Key1\": \"Val1\", \n",
      "    \"Key2\": \"Val2\"\n",
      "  }, \n",
      "  \"headers\": {\n",
      "    \"Accept\": \"*/*\", \n",
      "    \"Accept-Encoding\": \"gzip, deflate, br\", \n",
      "    \"Content-Length\": \"19\", \n",
      "    \"Content-Type\": \"application/x-www-form-urlencoded\", \n",
      "    \"Host\": \"httpbin.org\", \n",
      "    \"User-Agent\": \"python-requests/2.28.1\", \n",
      "    \"X-Amzn-Trace-Id\": \"Root=1-6403a3f1-5968c16e66083d3f3832367c\"\n",
      "  }, \n",
      "  \"json\": null, \n",
      "  \"origin\": \"152.58.24.164\", \n",
      "  \"url\": \"http://httpbin.org/post\"\n",
      "}\n",
      "\n"
     ]
    }
   ],
   "source": [
    "response = requests.post('http://httpbin.org/post', data = {'Key1':'Val1', 'Key2':'Val2'})\n",
    "print(response)\n",
    "print(response.text)"
   ]
  },
  {
   "cell_type": "code",
   "execution_count": 10,
   "id": "734bb8c5",
   "metadata": {},
   "outputs": [
    {
     "name": "stdout",
     "output_type": "stream",
     "text": [
      "<Response [200]>\n",
      "{\n",
      "  \"args\": {}, \n",
      "  \"data\": \"\", \n",
      "  \"files\": {}, \n",
      "  \"form\": {\n",
      "    \"key1\": [\n",
      "      \"val1\", \n",
      "      \"val2\"\n",
      "    ], \n",
      "    \"key2\": \"val3\"\n",
      "  }, \n",
      "  \"headers\": {\n",
      "    \"Accept\": \"*/*\", \n",
      "    \"Accept-Encoding\": \"gzip, deflate, br\", \n",
      "    \"Content-Length\": \"29\", \n",
      "    \"Content-Type\": \"application/x-www-form-urlencoded\", \n",
      "    \"Host\": \"httpbin.org\", \n",
      "    \"User-Agent\": \"python-requests/2.28.1\", \n",
      "    \"X-Amzn-Trace-Id\": \"Root=1-6403a4eb-6164d312397930cb473b0eed\"\n",
      "  }, \n",
      "  \"json\": null, \n",
      "  \"origin\": \"152.58.24.164\", \n",
      "  \"url\": \"http://httpbin.org/post\"\n",
      "}\n",
      "\n"
     ]
    }
   ],
   "source": [
    "response = requests.post('http://httpbin.org/post', data = [('key1','val1'),('key1','val2'),('key2','val3')])\n",
    "print(response)\n",
    "print(response.text)"
   ]
  },
  {
   "cell_type": "code",
   "execution_count": 13,
   "id": "e7cd90ab",
   "metadata": {},
   "outputs": [
    {
     "name": "stdout",
     "output_type": "stream",
     "text": [
      "<Response [405]>\n",
      "<html>\n",
      "    <head>\n",
      "        <meta http-equiv=\"Content-Type\" content=\"text/html;charset=UTF-8\"/>\n",
      "        <title>Page Not Found</title>\n",
      "\n",
      "        <style type=\"text/css\">\n",
      "            a:link { font-family: verdana,arial,helvetica,sans-serif; color: #004B91; }\n",
      "            a:visited { font-family: verdana,arial,helvetica,sans-serif; color: #996633; }\n",
      "            a:active { font-family: verdana,arial,helvetica,sans-serif; color: #FF9933; }\n",
      "        </style>\n",
      "    </head>\n",
      "    <body bgcolor=\"#FFFFFF\" text=\"#000000\" style=\"font-family: verdana,arial,helvetica,sans-serif;\">\n",
      "        <!--\n",
      "            To discuss automated access to Amazon data please contact api-services-support@amazon.com.\r\n",
      "\r\n",
      "For information about migrating to our APIs refer to our Marketplace APIs at https://developer.amazonservices.com/ref=rm_5_sv, or our Product Advertising API at https://affiliate-program.amazon.com/gp/advertising/api/detail/main.html/ref=rm_5_ac for advertising use cases.\n",
      "        -->\n",
      "        <center>\n",
      "            <a href=\"/ref=cs_404_logo\">\n",
      "                <img src=\"https://images-eu.ssl-images-amazon.com/images/G/31/ShoppingPortal/logo._TTD_.png\"\n",
      "                     alt=\"Amazon\" border=\"0\"/>\n",
      "            </a>\n",
      "            <table border=\"0\" align=\"center\" style=\"margin-top: 20px;\">\n",
      "                <tr>\n",
      "                    <td>\n",
      "                        <img src=\"https://images-eu.ssl-images-amazon.com/images/G/31/x-locale/common/kailey-kitty._TTD_.gif\" width=\"40\" height=\"35\" border=\"0\">\n",
      "                    </td>\n",
      "                    <td>\n",
      "                        <b style=\"color:#E47911\">Looking for something?</b>\n",
      "                        <br/>\n",
      "                        We're sorry. The Web address you entered is not a functioning page on our site.\n",
      "                        <br/><br/>\n",
      "                        <img src=\"https://images-eu.ssl-images-amazon.com/images/G/31/x-locale/common/orange-arrow._TTD_.gif\" width=\"10\" height=\"9\" border=\"0\">\n",
      "                        <b><a href=\"/ref=cs_404_link\">Click here to go back to the Amazon home page</a></b>\n",
      "                    </td>\n",
      "                </tr>\n",
      "            </table>\n",
      "        </center>\n",
      "    </body>\n",
      "</html>\n",
      "<!-- 5bdb3e02 -->\n"
     ]
    }
   ],
   "source": [
    "r = requests.post('https://www.amazon.in')\n",
    "print(r)\n",
    "print(r.text)\n",
    "    "
   ]
  },
  {
   "cell_type": "code",
   "execution_count": null,
   "id": "f34389bf",
   "metadata": {},
   "outputs": [],
   "source": []
  }
 ],
 "metadata": {
  "kernelspec": {
   "display_name": "Python 3 (ipykernel)",
   "language": "python",
   "name": "python3"
  },
  "language_info": {
   "codemirror_mode": {
    "name": "ipython",
    "version": 3
   },
   "file_extension": ".py",
   "mimetype": "text/x-python",
   "name": "python",
   "nbconvert_exporter": "python",
   "pygments_lexer": "ipython3",
   "version": "3.9.13"
  }
 },
 "nbformat": 4,
 "nbformat_minor": 5
}
