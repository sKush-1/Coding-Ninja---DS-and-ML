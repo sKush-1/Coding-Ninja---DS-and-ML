{
 "cells": [
  {
   "cell_type": "markdown",
   "id": "416b94a0",
   "metadata": {},
   "source": [
    "# Arithmatic Operators"
   ]
  },
  {
   "cell_type": "code",
   "execution_count": 1,
   "id": "744e48dc",
   "metadata": {},
   "outputs": [
    {
     "name": "stdout",
     "output_type": "stream",
     "text": [
      "6\n",
      "14\n"
     ]
    }
   ],
   "source": [
    "a=10\n",
    "b=4\n",
    "print(a-b)\n",
    "print(a+b)"
   ]
  },
  {
   "cell_type": "code",
   "execution_count": 2,
   "id": "840c2c03",
   "metadata": {},
   "outputs": [
    {
     "data": {
      "text/plain": [
       "40"
      ]
     },
     "execution_count": 2,
     "metadata": {},
     "output_type": "execute_result"
    }
   ],
   "source": [
    "a*b\n"
   ]
  },
  {
   "cell_type": "code",
   "execution_count": 3,
   "id": "6d8a8ece",
   "metadata": {},
   "outputs": [
    {
     "data": {
      "text/plain": [
       "2.5"
      ]
     },
     "execution_count": 3,
     "metadata": {},
     "output_type": "execute_result"
    }
   ],
   "source": [
    "a/b # floating point division"
   ]
  },
  {
   "cell_type": "code",
   "execution_count": 5,
   "id": "91584c9c",
   "metadata": {},
   "outputs": [
    {
     "data": {
      "text/plain": [
       "2"
      ]
     },
     "execution_count": 5,
     "metadata": {},
     "output_type": "execute_result"
    }
   ],
   "source": [
    "a//b # integer division"
   ]
  },
  {
   "cell_type": "code",
   "execution_count": 6,
   "id": "6a122b7c",
   "metadata": {},
   "outputs": [
    {
     "data": {
      "text/plain": [
       "10000"
      ]
     },
     "execution_count": 6,
     "metadata": {},
     "output_type": "execute_result"
    }
   ],
   "source": [
    "a**b # Eponentiation"
   ]
  },
  {
   "cell_type": "code",
   "execution_count": 7,
   "id": "27a98b01",
   "metadata": {},
   "outputs": [
    {
     "data": {
      "text/plain": [
       "14"
      ]
     },
     "execution_count": 7,
     "metadata": {},
     "output_type": "execute_result"
    }
   ],
   "source": [
    "2 + 3 * 4"
   ]
  },
  {
   "cell_type": "code",
   "execution_count": 8,
   "id": "d9ea71cc",
   "metadata": {},
   "outputs": [
    {
     "data": {
      "text/plain": [
       "1.5"
      ]
     },
     "execution_count": 8,
     "metadata": {},
     "output_type": "execute_result"
    }
   ],
   "source": [
    "2 * 3 / 4"
   ]
  },
  {
   "cell_type": "code",
   "execution_count": 9,
   "id": "9c2e85d5",
   "metadata": {},
   "outputs": [
    {
     "data": {
      "text/plain": [
       "1"
      ]
     },
     "execution_count": 9,
     "metadata": {},
     "output_type": "execute_result"
    }
   ],
   "source": [
    "2 * 3 // 4"
   ]
  },
  {
   "cell_type": "code",
   "execution_count": 10,
   "id": "69738559",
   "metadata": {},
   "outputs": [],
   "source": [
    "# Simple interest\n",
    "p = 100\n",
    "r = 12\n",
    "t = 2\n",
    "si = p * r * t // 100"
   ]
  },
  {
   "cell_type": "code",
   "execution_count": 11,
   "id": "739fe2b5",
   "metadata": {},
   "outputs": [
    {
     "name": "stdout",
     "output_type": "stream",
     "text": [
      "24\n"
     ]
    }
   ],
   "source": [
    "print(si)"
   ]
  },
  {
   "cell_type": "code",
   "execution_count": 13,
   "id": "7cf37fcf",
   "metadata": {},
   "outputs": [
    {
     "data": {
      "text/plain": [
       "0"
      ]
     },
     "execution_count": 13,
     "metadata": {},
     "output_type": "execute_result"
    }
   ],
   "source": [
    "t//100 * r * p"
   ]
  },
  {
   "cell_type": "code",
   "execution_count": 14,
   "id": "2cce3a43",
   "metadata": {},
   "outputs": [
    {
     "data": {
      "text/plain": [
       "37.77777777777778"
      ]
     },
     "execution_count": 14,
     "metadata": {},
     "output_type": "execute_result"
    }
   ],
   "source": [
    "# Fah to celcius conversion\n",
    "f = 100\n",
    "c = (f-32) * 5/9\n",
    "c"
   ]
  },
  {
   "cell_type": "code",
   "execution_count": null,
   "id": "b657fd77",
   "metadata": {},
   "outputs": [],
   "source": []
  }
 ],
 "metadata": {
  "kernelspec": {
   "display_name": "Python 3 (ipykernel)",
   "language": "python",
   "name": "python3"
  },
  "language_info": {
   "codemirror_mode": {
    "name": "ipython",
    "version": 3
   },
   "file_extension": ".py",
   "mimetype": "text/x-python",
   "name": "python",
   "nbconvert_exporter": "python",
   "pygments_lexer": "ipython3",
   "version": "3.9.12"
  }
 },
 "nbformat": 4,
 "nbformat_minor": 5
}
