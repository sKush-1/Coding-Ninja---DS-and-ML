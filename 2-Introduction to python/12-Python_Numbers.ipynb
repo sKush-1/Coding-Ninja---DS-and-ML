{
 "cells": [
  {
   "cell_type": "markdown",
   "id": "f809903d",
   "metadata": {},
   "source": [
    "## Python numbers"
   ]
  },
  {
   "cell_type": "code",
   "execution_count": 2,
   "id": "4f79ee87",
   "metadata": {},
   "outputs": [],
   "source": [
    "a=10"
   ]
  },
  {
   "cell_type": "code",
   "execution_count": 3,
   "id": "5e05632f",
   "metadata": {},
   "outputs": [
    {
     "name": "stdout",
     "output_type": "stream",
     "text": [
      "2172120492624\n"
     ]
    }
   ],
   "source": [
    "print(id(a))"
   ]
  },
  {
   "cell_type": "code",
   "execution_count": 4,
   "id": "9f50f064",
   "metadata": {},
   "outputs": [
    {
     "name": "stdout",
     "output_type": "stream",
     "text": [
      "2172120492656\n"
     ]
    }
   ],
   "source": [
    "a+=1\n",
    "print(id(a))"
   ]
  },
  {
   "cell_type": "code",
   "execution_count": null,
   "id": "d0ec83d3",
   "metadata": {},
   "outputs": [],
   "source": [
    "# id changed for variable ab"
   ]
  },
  {
   "cell_type": "code",
   "execution_count": 5,
   "id": "4f9a6188",
   "metadata": {},
   "outputs": [
    {
     "name": "stdout",
     "output_type": "stream",
     "text": [
      "(4+5j)\n"
     ]
    }
   ],
   "source": [
    "#complex number\n",
    "a1 = 4 + 5j;\n",
    "print(a1)"
   ]
  },
  {
   "cell_type": "code",
   "execution_count": 6,
   "id": "4c6df2a6",
   "metadata": {},
   "outputs": [
    {
     "name": "stdout",
     "output_type": "stream",
     "text": [
      "2172120685904\n",
      "2172120685904\n"
     ]
    }
   ],
   "source": [
    "a=160\n",
    "b=160\n",
    "print(id(a))\n",
    "print(id(b))"
   ]
  },
  {
   "cell_type": "code",
   "execution_count": null,
   "id": "06ef3f32",
   "metadata": {},
   "outputs": [],
   "source": [
    "# for numbers from [-5,255] id of two variables is same"
   ]
  },
  {
   "cell_type": "code",
   "execution_count": 7,
   "id": "9e19a331",
   "metadata": {
    "scrolled": true
   },
   "outputs": [
    {
     "name": "stdout",
     "output_type": "stream",
     "text": [
      "2172207369232\n",
      "2172207369744\n"
     ]
    }
   ],
   "source": [
    "a=1110\n",
    "b=1110\n",
    "print(id(a))\n",
    "print(id(b))"
   ]
  },
  {
   "cell_type": "code",
   "execution_count": null,
   "id": "f774fa07",
   "metadata": {},
   "outputs": [],
   "source": [
    "# for numbers out of range [-5,255] id's are different"
   ]
  }
 ],
 "metadata": {
  "kernelspec": {
   "display_name": "Python 3 (ipykernel)",
   "language": "python",
   "name": "python3"
  },
  "language_info": {
   "codemirror_mode": {
    "name": "ipython",
    "version": 3
   },
   "file_extension": ".py",
   "mimetype": "text/x-python",
   "name": "python",
   "nbconvert_exporter": "python",
   "pygments_lexer": "ipython3",
   "version": "3.9.12"
  }
 },
 "nbformat": 4,
 "nbformat_minor": 5
}
