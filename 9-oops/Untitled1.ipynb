{
 "cells": [
  {
   "cell_type": "code",
   "execution_count": 20,
   "id": "3f1d3828",
   "metadata": {},
   "outputs": [],
   "source": [
    "class Student:\n",
    "#     Class attributes\n",
    "    totalStudents = 20\n",
    "    classTeacherName = 'Komal'\n",
    "    \n",
    "#     constructors\n",
    "    def __init__(self, name, age, rn):\n",
    "        self.__name = name\n",
    "        self.age = age\n",
    "        self.rollNumber = rn\n",
    "    \n",
    "    def getName(self):\n",
    "        return self.__name\n",
    "    \n",
    "    def setName(self,name):\n",
    "        self.__name = name\n",
    "    \n",
    "#     Instance Methods\n",
    "    def printHello(self):\n",
    "        print('Hello')\n",
    "        \n",
    "    def print(self,str):\n",
    "        print(str)\n",
    "    \n",
    "    def printName(self):\n",
    "        name = 'Sumit'\n",
    "        print(self.name)\n",
    "        print(name)\n",
    "        \n",
    "    def addName(self,name):\n",
    "        __self.name = name\n",
    "    \n",
    "    def test(self):\n",
    "        Student.totalStudents = 25\n",
    "        print(Student.totalStudents)\n",
    "        Student.test_class = 90\n",
    "        \n",
    "s1 = Student('Vaishnavi',16,100)\n",
    "s2 = Student('Sumit',22,101)"
   ]
  },
  {
   "cell_type": "code",
   "execution_count": 21,
   "id": "94da4179",
   "metadata": {},
   "outputs": [
    {
     "name": "stdout",
     "output_type": "stream",
     "text": [
      "{'_Student__name': 'Vaishnavi', 'age': 16, 'rollNumber': 100}\n",
      "{'_Student__name': 'Sumit', 'age': 22, 'rollNumber': 101}\n"
     ]
    }
   ],
   "source": [
    "print(s1.__dict__)\n",
    "print(s2.__dict__)"
   ]
  },
  {
   "cell_type": "code",
   "execution_count": 22,
   "id": "db8af34f",
   "metadata": {},
   "outputs": [
    {
     "name": "stdout",
     "output_type": "stream",
     "text": [
      "Vaishnavi 16 101\n"
     ]
    }
   ],
   "source": [
    "print(s1.getName(),s1.age,s2.rollNumber)"
   ]
  },
  {
   "cell_type": "code",
   "execution_count": 25,
   "id": "a9ccb814",
   "metadata": {},
   "outputs": [],
   "source": [
    "s1.setName('Babygirl')"
   ]
  },
  {
   "cell_type": "code",
   "execution_count": 26,
   "id": "021f4b39",
   "metadata": {},
   "outputs": [
    {
     "name": "stdout",
     "output_type": "stream",
     "text": [
      "Babygirl 16 101\n"
     ]
    }
   ],
   "source": [
    "print(s1.getName(),s1.age,s2.rollNumber)"
   ]
  },
  {
   "cell_type": "code",
   "execution_count": 27,
   "id": "468e80da",
   "metadata": {},
   "outputs": [
    {
     "name": "stdout",
     "output_type": "stream",
     "text": [
      "Babygirl\n"
     ]
    }
   ],
   "source": [
    "print(s1._Student__name)"
   ]
  },
  {
   "cell_type": "code",
   "execution_count": null,
   "id": "66b07e1e",
   "metadata": {},
   "outputs": [],
   "source": []
  }
 ],
 "metadata": {
  "kernelspec": {
   "display_name": "Python 3 (ipykernel)",
   "language": "python",
   "name": "python3"
  },
  "language_info": {
   "codemirror_mode": {
    "name": "ipython",
    "version": 3
   },
   "file_extension": ".py",
   "mimetype": "text/x-python",
   "name": "python",
   "nbconvert_exporter": "python",
   "pygments_lexer": "ipython3",
   "version": "3.9.12"
  }
 },
 "nbformat": 4,
 "nbformat_minor": 5
}
