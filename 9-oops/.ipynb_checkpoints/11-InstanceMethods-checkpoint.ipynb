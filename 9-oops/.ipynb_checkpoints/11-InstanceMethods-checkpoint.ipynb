{
 "cells": [
  {
   "cell_type": "code",
   "execution_count": 20,
   "id": "0cccc6b8",
   "metadata": {},
   "outputs": [],
   "source": [
    "class Student:\n",
    "#     Class attributes\n",
    "    totalStudents = 20\n",
    "    classTeacherName = 'Komal'\n",
    "    \n",
    "#     Instance Methods\n",
    "    def printHello(self):\n",
    "        print('Hello')\n",
    "        \n",
    "    def print(self,str):\n",
    "        print(str)\n",
    "    \n",
    "    def printName(self):\n",
    "        name = 'Sumit'\n",
    "        print(self.name)\n",
    "        print(name)\n",
    "        \n",
    "s1 = Student()\n",
    "s2 = Student()"
   ]
  },
  {
   "cell_type": "code",
   "execution_count": 10,
   "id": "3d96066f",
   "metadata": {},
   "outputs": [
    {
     "name": "stdout",
     "output_type": "stream",
     "text": [
      "Hello\n",
      "HI\n"
     ]
    }
   ],
   "source": [
    "s1.printHello()\n",
    "s1.print(\"HI\")"
   ]
  },
  {
   "cell_type": "code",
   "execution_count": 11,
   "id": "209dc041",
   "metadata": {},
   "outputs": [
    {
     "name": "stdout",
     "output_type": "stream",
     "text": [
      "Hello\n"
     ]
    }
   ],
   "source": [
    "# Passing object explicitly\n",
    "Student.printHello(s1)"
   ]
  },
  {
   "cell_type": "code",
   "execution_count": 22,
   "id": "b0240cac",
   "metadata": {},
   "outputs": [],
   "source": [
    "s1.name = 'Mohit'\n"
   ]
  },
  {
   "cell_type": "code",
   "execution_count": 23,
   "id": "1de60790",
   "metadata": {},
   "outputs": [
    {
     "name": "stdout",
     "output_type": "stream",
     "text": [
      "Mohit\n",
      "Sumit\n"
     ]
    }
   ],
   "source": [
    "s1.printName()"
   ]
  },
  {
   "cell_type": "code",
   "execution_count": null,
   "id": "7bf05781",
   "metadata": {},
   "outputs": [],
   "source": []
  }
 ],
 "metadata": {
  "kernelspec": {
   "display_name": "Python 3 (ipykernel)",
   "language": "python",
   "name": "python3"
  },
  "language_info": {
   "codemirror_mode": {
    "name": "ipython",
    "version": 3
   },
   "file_extension": ".py",
   "mimetype": "text/x-python",
   "name": "python",
   "nbconvert_exporter": "python",
   "pygments_lexer": "ipython3",
   "version": "3.9.12"
  }
 },
 "nbformat": 4,
 "nbformat_minor": 5
}
