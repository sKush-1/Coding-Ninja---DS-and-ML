{
 "cells": [
  {
   "cell_type": "code",
   "execution_count": 1,
   "id": "97318ea7",
   "metadata": {},
   "outputs": [
    {
     "name": "stdout",
     "output_type": "stream",
     "text": [
      "<class 'int'>\n"
     ]
    }
   ],
   "source": [
    "a=10\n",
    "print(type(a))"
   ]
  },
  {
   "cell_type": "code",
   "execution_count": 2,
   "id": "d27c4bff",
   "metadata": {},
   "outputs": [
    {
     "name": "stdout",
     "output_type": "stream",
     "text": [
      "<class 'set'>\n"
     ]
    }
   ],
   "source": [
    "l = {1,2,3}\n",
    "print(type(l))"
   ]
  },
  {
   "cell_type": "code",
   "execution_count": 30,
   "id": "9af7161f",
   "metadata": {},
   "outputs": [],
   "source": [
    "class Student :\n",
    "    pass\n",
    "\n",
    "s1 = Student()\n",
    "s2 = Student()\n",
    "s3 = Student()\n",
    "\n",
    "# s1.name = \"Mohit\"\n",
    "s1.age = 20\n",
    "    "
   ]
  },
  {
   "cell_type": "code",
   "execution_count": 33,
   "id": "57ca09f1",
   "metadata": {},
   "outputs": [],
   "source": [
    "s2.rollNumber = 101"
   ]
  },
  {
   "cell_type": "code",
   "execution_count": 12,
   "id": "644188ad",
   "metadata": {},
   "outputs": [],
   "source": [
    "s3.age = 21"
   ]
  },
  {
   "cell_type": "code",
   "execution_count": 23,
   "id": "9db9ed22",
   "metadata": {},
   "outputs": [
    {
     "name": "stdout",
     "output_type": "stream",
     "text": [
      "{}\n"
     ]
    }
   ],
   "source": [
    "print(s2.__dict__)"
   ]
  },
  {
   "cell_type": "code",
   "execution_count": 26,
   "id": "36e72373",
   "metadata": {},
   "outputs": [
    {
     "name": "stdout",
     "output_type": "stream",
     "text": [
      "False\n"
     ]
    }
   ],
   "source": [
    "print(hasattr(s1,'namo'))"
   ]
  },
  {
   "cell_type": "code",
   "execution_count": 34,
   "id": "8f4b26c1",
   "metadata": {},
   "outputs": [
    {
     "name": "stdout",
     "output_type": "stream",
     "text": [
      "101\n"
     ]
    }
   ],
   "source": [
    " print(getattr(s2,'rollNumber'))"
   ]
  },
  {
   "cell_type": "code",
   "execution_count": null,
   "id": "06ed87e2",
   "metadata": {},
   "outputs": [],
   "source": []
  }
 ],
 "metadata": {
  "kernelspec": {
   "display_name": "Python 3 (ipykernel)",
   "language": "python",
   "name": "python3"
  },
  "language_info": {
   "codemirror_mode": {
    "name": "ipython",
    "version": 3
   },
   "file_extension": ".py",
   "mimetype": "text/x-python",
   "name": "python",
   "nbconvert_exporter": "python",
   "pygments_lexer": "ipython3",
   "version": "3.9.12"
  }
 },
 "nbformat": 4,
 "nbformat_minor": 5
}
