{
 "cells": [
  {
   "cell_type": "code",
   "execution_count": 4,
   "id": "5fca4561",
   "metadata": {},
   "outputs": [
    {
     "name": "stdout",
     "output_type": "stream",
     "text": [
      "<_io.TextIOWrapper name='Datasets/file.txt' mode='r' encoding='cp1252'>\n"
     ]
    }
   ],
   "source": [
    "# By default read mode\n",
    "file_obj = open('Datasets/file.txt')\n",
    "print(file_obj)"
   ]
  },
  {
   "cell_type": "code",
   "execution_count": 9,
   "id": "b9069746",
   "metadata": {},
   "outputs": [
    {
     "data": {
      "text/plain": [
       "<_io.TextIOWrapper name='Datasets/file.txt' mode='r' encoding='cp1252'>"
      ]
     },
     "execution_count": 9,
     "metadata": {},
     "output_type": "execute_result"
    }
   ],
   "source": [
    " # read mode - can only read doesn't allow changes\n",
    "file_obj = open('Datasets/file.txt','r')\n",
    "file_obj"
   ]
  },
  {
   "cell_type": "code",
   "execution_count": 12,
   "id": "dd89b70c",
   "metadata": {},
   "outputs": [
    {
     "data": {
      "text/plain": [
       "<_io.TextIOWrapper name='Datasets/file.txt' mode='w' encoding='cp1252'>"
      ]
     },
     "execution_count": 12,
     "metadata": {},
     "output_type": "execute_result"
    }
   ],
   "source": [
    "# write mode - can only read and allow changes\n",
    "# write removes all content of file so make chnanges use append mode\n",
    "file_obj = open('Datasets/file.txt','w')\n",
    "file_obj"
   ]
  },
  {
   "cell_type": "code",
   "execution_count": 36,
   "id": "a5fb2d0a",
   "metadata": {},
   "outputs": [
    {
     "name": "stdout",
     "output_type": "stream",
     "text": [
      "Hello I am Sumit. \\n\n",
      "\n",
      "Vaish How are you.\n",
      "\n"
     ]
    }
   ],
   "source": [
    "# append mode - allow changes without removing content of file\n",
    "file_obj = open('Datasets/file.txt','a')\n",
    "\n",
    "# myFile = file_obj.read()\n",
    "# print(myFile)\n",
    "\n",
    "# myFile = file_obj.readline(10)\n",
    "# print(myFile)\n",
    "\n",
    "myFile = file_obj.readline()\n",
    "print(myFile)\n",
    "\n",
    "myFile = file_obj.readline()\n",
    "print(myFile)\n",
    "\n",
    "# myFile = min(n,curr_line)\n"
   ]
  },
  {
   "cell_type": "code",
   "execution_count": null,
   "id": "55723ffd",
   "metadata": {},
   "outputs": [],
   "source": [
    "file_obj = open('Datasets/file.txt','r')\n",
    "\n",
    "# myFile = file_obj.read()\n",
    "# print(myFile)\n",
    "\n",
    "# myFile = file_obj.readline(10)\n",
    "# print(myFile)\n",
    "\n",
    "myFile = file_obj.readline()\n",
    "print(myFile)\n",
    "\n",
    "myFile = file_obj.readline()\n",
    "print(myFile)"
   ]
  }
 ],
 "metadata": {
  "kernelspec": {
   "display_name": "Python 3 (ipykernel)",
   "language": "python",
   "name": "python3"
  },
  "language_info": {
   "codemirror_mode": {
    "name": "ipython",
    "version": 3
   },
   "file_extension": ".py",
   "mimetype": "text/x-python",
   "name": "python",
   "nbconvert_exporter": "python",
   "pygments_lexer": "ipython3",
   "version": "3.9.12"
  }
 },
 "nbformat": 4,
 "nbformat_minor": 5
}
