{
 "cells": [
  {
   "cell_type": "code",
   "execution_count": 1,
   "id": "ba1f78dc",
   "metadata": {},
   "outputs": [],
   "source": [
    "# 10 - Reddit API\n",
    "# Client id = A_fiF6HnY7cVBkGUz6fdBg\n",
    "# Client secret = \th3-8-smvsgNugE1d5lbVXCSrL5n3_Q"
   ]
  },
  {
   "cell_type": "code",
   "execution_count": 1,
   "id": "6205727f",
   "metadata": {},
   "outputs": [],
   "source": [
    "import requests\n",
    "import json"
   ]
  },
  {
   "cell_type": "code",
   "execution_count": 6,
   "id": "0279321b",
   "metadata": {},
   "outputs": [
    {
     "name": "stdout",
     "output_type": "stream",
     "text": [
      "https://www.reddit.com/api/v1/authorize?client_id=e7GJBi1E2v7cbedN7Turyw&response_type=code&state=random_123&redirect_uri=https%3A%2F%2Fwww.google.com%2F&scope=read\n"
     ]
    }
   ],
   "source": [
    "data = {'client_id': 'e7GJBi1E2v7cbedN7Turyw', 'response_type': 'code', 'state':'random_123', 'redirect_uri':'https://www.google.com/','scope':'read'}\n",
    "response = requests.get('https://www.reddit.com/api/v1/authorize', params = data)\n",
    "print(response.url)"
   ]
  },
  {
   "cell_type": "code",
   "execution_count": null,
   "id": "41a79603",
   "metadata": {},
   "outputs": [],
   "source": [
    "# code=8xwyYHaSinnmeIJJW8nIUMOSBMBWxw#_"
   ]
  },
  {
   "cell_type": "code",
   "execution_count": null,
   "id": "b2c91595",
   "metadata": {},
   "outputs": [],
   "source": [
    "data = {'grant_type': 'authorization_code', 'code': 'L4QefaiCWdDVDW-7hHhI98t0JIJP1g#_', 'redirect_uri' : 'https://www.google.com/'}\n",
    "r = requests.post('https://www.reddit.com/api/v1/access_token', data = data, \n",
    "                  auth = ('e7GJBi1E2v7cbedN7Turyw', 'dtPHoi9CEpwu4JOxI6ZxG-oU5Agyyg'), \n",
    "                  headers = {'User-Agent':'TesterSumit'})\n",
    "print(r.text)\n"
   ]
  },
  {
   "cell_type": "code",
   "execution_count": null,
   "id": "988da2b6",
   "metadata": {},
   "outputs": [],
   "source": []
  },
  {
   "cell_type": "code",
   "execution_count": null,
   "id": "6c278ea2",
   "metadata": {},
   "outputs": [],
   "source": []
  }
 ],
 "metadata": {
  "kernelspec": {
   "display_name": "Python 3 (ipykernel)",
   "language": "python",
   "name": "python3"
  },
  "language_info": {
   "codemirror_mode": {
    "name": "ipython",
    "version": 3
   },
   "file_extension": ".py",
   "mimetype": "text/x-python",
   "name": "python",
   "nbconvert_exporter": "python",
   "pygments_lexer": "ipython3",
   "version": "3.9.13"
  }
 },
 "nbformat": 4,
 "nbformat_minor": 5
}
