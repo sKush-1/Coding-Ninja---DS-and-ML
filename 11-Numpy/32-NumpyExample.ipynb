{
 "cells": [
  {
   "cell_type": "code",
   "execution_count": 22,
   "id": "fb7b6ec3",
   "metadata": {},
   "outputs": [
    {
     "name": "stdout",
     "output_type": "stream",
     "text": [
      "1167.0\n",
      "51372.0\n"
     ]
    }
   ],
   "source": [
    "import numpy as np\n",
    "import csv\n",
    "\n",
    "file_obj = open('Datasets/year2017.csv')\n",
    "data = csv.DictReader(file_obj, skipinitialspace = True)\n",
    "\n",
    "killed = []\n",
    "wounded = []\n",
    "country = []\n",
    "\n",
    "for row in data:\n",
    "    killed.append(row['Killed'])\n",
    "    country.append(row['Country'])\n",
    "    wounded.append(row['Wounded'])\n",
    "\n",
    "np_killed = np.array(killed)\n",
    "np_wounded = np.array(wounded)\n",
    "\n",
    "np_killed[np_killed == ''] = '0.0'\n",
    "np_wounded[np_wounded == ''] = '0.0'\n",
    "\n",
    "np_killed = np.array(np_killed, dtype = float)\n",
    "np_wounded = np.array(np_wounded, dtype= float)\n",
    "\n",
    "killed_wounded = np_killed + np_wounded\n",
    "\n",
    "np_country = np.array(country)\n",
    "bool_arr = np_country == 'India'\n",
    "\n",
    "ans = killed_wounded[bool_arr]\n",
    "print(np.sum(ans))\n",
    "print(np.sum(killed_wounded))\n"
   ]
  },
  {
   "cell_type": "code",
   "execution_count": null,
   "id": "21dd1321",
   "metadata": {},
   "outputs": [],
   "source": []
  }
 ],
 "metadata": {
  "kernelspec": {
   "display_name": "Python 3 (ipykernel)",
   "language": "python",
   "name": "python3"
  },
  "language_info": {
   "codemirror_mode": {
    "name": "ipython",
    "version": 3
   },
   "file_extension": ".py",
   "mimetype": "text/x-python",
   "name": "python",
   "nbconvert_exporter": "python",
   "pygments_lexer": "ipython3",
   "version": "3.9.12"
  }
 },
 "nbformat": 4,
 "nbformat_minor": 5
}
